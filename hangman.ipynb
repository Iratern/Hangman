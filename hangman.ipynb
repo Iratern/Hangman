{
 "cells": [
  {
   "cell_type": "code",
   "execution_count": 1,
   "id": "b32e8720-58f5-4ff4-bf67-0da9528584a0",
   "metadata": {},
   "outputs": [],
   "source": [
    "####HangMan by Iratern\n",
    "### A hangman game where the man is hanged when the word hanged is spelt :D\n",
    "### June 14, 2021\n",
    "###Unfortunately it is hard to hide the secret word"
   ]
  },
  {
   "cell_type": "code",
   "execution_count": 2,
   "id": "30898952-9171-420a-ab72-e0636840d7dd",
   "metadata": {},
   "outputs": [],
   "source": [
    "###player class to keep track of game record:\n",
    "###currently not implemented\n",
    "class player:\n",
    "    wins = 0\n",
    "    losses = 0 \n",
    "    ties = 0\n",
    "    name = \"\"\n",
    "    total_games = wins + losses + ties\n",
    "    def __init__(self,name,wins,losses,ties):\n",
    "        self.wins = wins\n",
    "        self.losses = losses\n",
    "        self.ties = ties\n",
    "        self.name = name\n",
    "        self.total_games = self.wins + self.losses + self.ties #leftover code snippet remember define class method to update this value\n",
    "    def __str__(self):\n",
    "        player_string = \"Player's name is {} \\nThey have {} wins \\nThey have {} losses \\nThey have {} ties \\nFor a total of {} games\".format(self.name,self.wins,self.losses,self.ties,self.total_games)\n",
    "        return player_string"
   ]
  },
  {
   "cell_type": "code",
   "execution_count": 3,
   "id": "3b3415a0-106f-4a6b-9ab7-4e7ee9f094fd",
   "metadata": {},
   "outputs": [],
   "source": [
    "###function that creats 2 global player class instances with unique player.name attribute can maybe make into a nonlocal variable embedded in function: hangman()\n",
    "def player_creator():\n",
    "    global player1\n",
    "    global player2\n",
    "    player1_name = input(\"Player 1 enter your name:\")\n",
    "    player2_name = input(\"PLayer 2 enter your name:\")\n",
    "    player1 = player(player1_name,0,0,0)\n",
    "    player2 = player(player2_name,0,0,0)"
   ]
  },
  {
   "cell_type": "code",
   "execution_count": 4,
   "id": "ddcc4743-41b2-4884-a31f-21bd597c8251",
   "metadata": {},
   "outputs": [],
   "source": [
    "####replay function to restart game with user decision\n",
    "def replay():\n",
    "    userdecision = input(\"Want to play again? ENTER Y for yes Or press ANY key to abort:\")\n",
    "    if userdecision.lower() == \"y\":\n",
    "          hang_game()\n",
    "    else:\n",
    "        print(\"Aww, let's play again later\")\n",
    "        return None"
   ]
  },
  {
   "cell_type": "code",
   "execution_count": 5,
   "id": "2350ded4-7617-45e0-b853-71c69d20ba3f",
   "metadata": {},
   "outputs": [],
   "source": [
    "###game launcher that starts player creation and/or initiates game \n",
    "def hangman():\n",
    "    decision= input(\"Would you like to create new players? \\nEnter y for yes or any other key for no\")\n",
    "    if decision.lower() == 'y':\n",
    "        player_creator()\n",
    "        hang_game\n",
    "    else:\n",
    "        hang_game"
   ]
  },
  {
   "cell_type": "code",
   "execution_count": 6,
   "id": "e56017f4-cb18-4ca0-9a52-a3049eba48a0",
   "metadata": {},
   "outputs": [],
   "source": [
    "###funtion that \"draws\" the man as he approaches death\n",
    "the_man = ''\n",
    "the_hanged_man = \"Hanged\"\n",
    "def the_hanger(hang_counter, the_man):\n",
    "    the_man =the_hanged_man[:hang_counter]\n",
    "    return the_man"
   ]
  },
  {
   "cell_type": "code",
   "execution_count": 7,
   "id": "afe9cc54-f4c1-4164-bbe1-6a05cce6c052",
   "metadata": {},
   "outputs": [],
   "source": [
    "###a game step unfortunately cannot seem to use a function with arguments and user input simultaneously here?\n",
    "\n",
    "def game_step(the_secret, player_list, player_letter, hang_counter):\n",
    "    if player_letter in the_secret:\n",
    "        for indice, letter in enumerate(the_secret):\n",
    "            if letter == player_letter != '':\n",
    "                player_list[indice] = player_letter\n",
    "            else:\n",
    "                pass\n",
    "    else:\n",
    "        hang_counter += 1\n",
    "    print(player_list)\n",
    "    return player_list, hang_counter"
   ]
  },
  {
   "cell_type": "code",
   "execution_count": 8,
   "id": "5ac42c45-3dc6-4d73-beed-190704a5200a",
   "metadata": {},
   "outputs": [],
   "source": [
    "####victory condition checker,\n",
    "def victory_condition_check(player_list, the_secret, the_man):\n",
    "    player_word = \"\"\n",
    "    for letter in player_list:\n",
    "        player_word = player_word + letter\n",
    "    if the_man != \"Hanged\":\n",
    "        if player_word != the_secret:\n",
    "            return False\n",
    "        else:\n",
    "            return True\n",
    "    return True"
   ]
  },
  {
   "cell_type": "code",
   "execution_count": 9,
   "id": "1d5a0216-93e2-45c1-983c-8c953da0293e",
   "metadata": {},
   "outputs": [],
   "source": [
    "### archaic function used instead of string method, too lazy to change does its job \n",
    "def player_list_generator(the_secret):\n",
    "    player_list =[]\n",
    "    for letter in the_secret:\n",
    "        player_list.append(\" \")\n",
    "    return player_list"
   ]
  },
  {
   "cell_type": "code",
   "execution_count": 10,
   "id": "7504e17b-b4a6-49b4-99ba-1f2a7e43e3b7",
   "metadata": {},
   "outputs": [],
   "source": [
    "#the actual game need to work on victory condition exits after updating victory_condition_check \n",
    "#maybe declare global variables here: such as hanged_man =\"Hanged\" instead of working on local nonlocal and global\n",
    "def hang_game():\n",
    "    the_secret = input(\"Please enter your word:\")\n",
    "    the_secret= the_secret.lower()\n",
    "    hang_counter = 0\n",
    "    the_man = \"\"\n",
    "    player_list = player_list_generator(the_secret)\n",
    "    if the_man == \"Hanged\":\n",
    "            print(the_man)\n",
    "            print(\"You killed him!\")\n",
    "            return None\n",
    "    while victory_condition_check(player_list, the_secret, the_man) == False:\n",
    "        player_letter = input(\"Players please enter a letter:\") ##will use a player_move funtion to check if only a letter was entered\n",
    "        player_letter.lower()\n",
    "        player_list, hang_counter = game_step(the_secret, player_list, player_letter, hang_counter)\n",
    "        the_man = the_hanger(hang_counter, the_man)\n",
    "        print(the_man)\n",
    "    if the_man == \"Hanged\":\n",
    "        print(\"You Lose!\")\n",
    "        replay()\n",
    "    else:\n",
    "        print(\"You win\")\n",
    "    print(\"The secret word was:\",the_secret)\n",
    "    replay()"
   ]
  },
  {
   "cell_type": "code",
   "execution_count": null,
   "id": "fef51344-6584-4aae-a963-dc4b903d1835",
   "metadata": {},
   "outputs": [],
   "source": [
    "hang_game()"
   ]
  },
  {
   "cell_type": "code",
   "execution_count": null,
   "id": "5054a5f7-9774-4879-b474-89c0c8d22d26",
   "metadata": {},
   "outputs": [],
   "source": []
  }
 ],
 "metadata": {
  "kernelspec": {
   "display_name": "Python 3",
   "language": "python",
   "name": "python3"
  },
  "language_info": {
   "codemirror_mode": {
    "name": "ipython",
    "version": 3
   },
   "file_extension": ".py",
   "mimetype": "text/x-python",
   "name": "python",
   "nbconvert_exporter": "python",
   "pygments_lexer": "ipython3",
   "version": "3.8.5"
  }
 },
 "nbformat": 4,
 "nbformat_minor": 5
}
